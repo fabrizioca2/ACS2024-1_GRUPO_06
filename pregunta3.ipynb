{
 "cells": [
  {
   "cell_type": "code",
   "execution_count": null,
   "metadata": {},
<<<<<<< Updated upstream
   "outputs": [
    {
     "name": "stdout",
     "output_type": "stream",
     "text": [
      "Requirement already satisfied: control in c:\\users\\josue\\appdata\\local\\programs\\python\\python312\\lib\\site-packages (0.10.1)\n",
      "Requirement already satisfied: numpy>=1.23 in c:\\users\\josue\\appdata\\local\\programs\\python\\python312\\lib\\site-packages (from control) (1.26.4)\n",
      "Requirement already satisfied: scipy>=1.8 in c:\\users\\josue\\appdata\\local\\programs\\python\\python312\\lib\\site-packages (from control) (1.13.0)\n",
      "Requirement already satisfied: matplotlib>=3.6 in c:\\users\\josue\\appdata\\local\\programs\\python\\python312\\lib\\site-packages (from control) (3.8.4)\n",
      "Requirement already satisfied: contourpy>=1.0.1 in c:\\users\\josue\\appdata\\local\\programs\\python\\python312\\lib\\site-packages (from matplotlib>=3.6->control) (1.2.1)\n",
      "Requirement already satisfied: cycler>=0.10 in c:\\users\\josue\\appdata\\local\\programs\\python\\python312\\lib\\site-packages (from matplotlib>=3.6->control) (0.12.1)\n",
      "Requirement already satisfied: fonttools>=4.22.0 in c:\\users\\josue\\appdata\\local\\programs\\python\\python312\\lib\\site-packages (from matplotlib>=3.6->control) (4.51.0)\n",
      "Requirement already satisfied: kiwisolver>=1.3.1 in c:\\users\\josue\\appdata\\local\\programs\\python\\python312\\lib\\site-packages (from matplotlib>=3.6->control) (1.4.5)\n",
      "Requirement already satisfied: packaging>=20.0 in c:\\users\\josue\\appdata\\local\\programs\\python\\python312\\lib\\site-packages (from matplotlib>=3.6->control) (24.0)\n",
      "Requirement already satisfied: pillow>=8 in c:\\users\\josue\\appdata\\local\\programs\\python\\python312\\lib\\site-packages (from matplotlib>=3.6->control) (10.2.0)\n",
      "Requirement already satisfied: pyparsing>=2.3.1 in c:\\users\\josue\\appdata\\local\\programs\\python\\python312\\lib\\site-packages (from matplotlib>=3.6->control) (3.1.2)\n",
      "Requirement already satisfied: python-dateutil>=2.7 in c:\\users\\josue\\appdata\\local\\programs\\python\\python312\\lib\\site-packages (from matplotlib>=3.6->control) (2.9.0.post0)\n",
      "Requirement already satisfied: six>=1.5 in c:\\users\\josue\\appdata\\local\\programs\\python\\python312\\lib\\site-packages (from python-dateutil>=2.7->matplotlib>=3.6->control) (1.16.0)\n",
      "Note: you may need to restart the kernel to use updated packages.\n"
     ]
    },
    {
     "name": "stderr",
     "output_type": "stream",
     "text": [
      "\n",
      "[notice] A new release of pip is available: 24.0 -> 24.3.1\n",
      "[notice] To update, run: python.exe -m pip install --upgrade pip\n"
     ]
    }
   ],
=======
   "outputs": [],
>>>>>>> Stashed changes
   "source": [
    "pip install control"
   ]
  },
  {
   "cell_type": "code",
   "execution_count": 2,
   "metadata": {},
   "outputs": [],
   "source": [
    "import numpy as np\n",
    "import control as ctrl\n",
    "from deap import base, creator, tools, algorithms"
   ]
  },
  {
   "cell_type": "code",
   "execution_count": 3,
   "metadata": {},
   "outputs": [],
   "source": [
    "# Sistema de ejemplo: Planta G(s) = 1 / (s^2 + 3s + 2)\n",
    "# Parámetros del sistema\n",
    "M = 0.8  # Masa del carro (kg)\n",
    "m = 0.23  # Masa del péndulo (kg)\n",
    "l = 0.3  # Longitud del péndulo (m)\n",
    "g = 9.81 # Aceleración de la gravedad (m/s²)\n"
   ]
  },
  {
   "cell_type": "code",
   "execution_count": 4,
   "metadata": {},
   "outputs": [],
   "source": [
    "#definir numerador y denominador\n",
    "numerador = [1]\n",
    "denominador = [M*l, 0, -(M+m)*g]"
   ]
  },
  {
   "cell_type": "code",
   "execution_count": 5,
   "metadata": {},
   "outputs": [],
   "source": [
    "planta = ctrl.TransferFunction(numerador, denominador)"
   ]
  },
  {
   "cell_type": "code",
   "execution_count": 6,
   "metadata": {},
   "outputs": [],
   "source": [
    "# Función objetivo: Evaluar rendimiento del controlador PID \n",
    "\n",
    "def evaluar_pid(individuo): \n",
    "\n",
    "    Kp, Ki, Kd = individuo \n",
    "\n",
    "    # Controlador PID \n",
    "\n",
    "    controlador = ctrl.TransferFunction([Kd, Kp, Ki], [1, 0]) \n",
    "\n",
    "    # Lazo cerrado \n",
    "\n",
    "    sistema_lazo_cerrado = ctrl.feedback(controlador * planta) \n",
    "\n",
    "    # Simulación de la respuesta al escalón \n",
    "\n",
    "    t, yout = ctrl.step_response(sistema_lazo_cerrado) \n",
    "\n",
    "    # Error: Deseamos que la salida siga un escalón unitario \n",
    "\n",
    "    error = 1 - yout \n",
    "\n",
    "    # ISE: Integral del error al cuadrado \n",
    "\n",
    "    ise = np.sum(error**2) * (t[1] - t[0]) \n",
    "\n",
    "    return ise, "
   ]
  },
  {
   "cell_type": "code",
   "execution_count": 7,
   "metadata": {},
   "outputs": [],
   "source": [
    "# Configuración del algoritmo genético\n",
    "creator.create(\"FitnessMin\", base.Fitness, weights=(-1.0,))  # Minimizar ISE\n",
    "creator.create(\"Individual\", list, fitness=creator.FitnessMin)\n",
    "toolbox = base.Toolbox()"
   ]
  },
  {
   "cell_type": "code",
   "execution_count": 8,
   "metadata": {},
   "outputs": [],
   "source": [
    "# Definir individuos (Kp, Ki, Kd)\n",
    "toolbox.register(\"attr_float\", np.random.uniform, 0, 10)  # Rango de [0, 10]\n",
    "toolbox.register(\"individual\", tools.initRepeat, creator.Individual, toolbox.attr_float, 3)\n",
    "toolbox.register(\"population\", tools.initRepeat, list, toolbox.individual)"
   ]
  },
  {
   "cell_type": "code",
   "execution_count": 9,
   "metadata": {},
   "outputs": [],
   "source": [
    "# Operadores genéticos\n",
    "toolbox.register(\"mate\", tools.cxBlend, alpha=0.5)\n",
    "toolbox.register(\"mutate\", tools.mutGaussian, mu=0, sigma=1, indpb=0.2)\n",
    "toolbox.register(\"select\", tools.selTournament, tournsize=3)\n",
    "toolbox.register(\"evaluate\", evaluar_pid)"
   ]
  },
  {
   "cell_type": "code",
   "execution_count": 10,
   "metadata": {},
   "outputs": [],
   "source": [
    "# Proceso evolutivo\n",
    "population = toolbox.population(n=50)\n",
    "ngen = 20  # Número de generaciones\n",
    "cxpb = 0.7  # Probabilidad de cruzamiento\n",
    "mutpb = 0.2  # Probabilidad de mutación"
   ]
  },
  {
   "cell_type": "code",
   "execution_count": 11,
   "metadata": {},
   "outputs": [
    {
     "name": "stderr",
     "output_type": "stream",
     "text": [
      "c:\\Users\\josue\\AppData\\Local\\Programs\\Python\\Python312\\Lib\\site-packages\\control\\timeresp.py:1197: RuntimeWarning: overflow encountered in matmul\n",
      "  xout[:, i] = (Ad @ xout[:, i-1]\n",
      "c:\\Users\\josue\\AppData\\Local\\Programs\\Python\\Python312\\Lib\\site-packages\\control\\timeresp.py:1197: RuntimeWarning: invalid value encountered in matmul\n",
      "  xout[:, i] = (Ad @ xout[:, i-1]\n",
      "C:\\Users\\josue\\AppData\\Local\\Temp\\ipykernel_52604\\43993376.py:25: RuntimeWarning: overflow encountered in square\n",
      "  ise = np.sum(error**2) * (t[1] - t[0])\n"
     ]
    },
    {
     "name": "stdout",
     "output_type": "stream",
     "text": [
      "gen\tnevals\n",
      "0  \t50    \n"
     ]
    },
    {
     "name": "stderr",
     "output_type": "stream",
     "text": [
      "c:\\Users\\josue\\AppData\\Local\\Programs\\Python\\Python312\\Lib\\site-packages\\numpy\\core\\fromnumeric.py:88: RuntimeWarning: overflow encountered in reduce\n",
      "  return ufunc.reduce(obj, axis, dtype, out, **passkwargs)\n"
     ]
    },
    {
     "name": "stdout",
     "output_type": "stream",
     "text": [
      "1  \t41    \n",
      "2  \t43    \n",
      "3  \t44    \n",
      "4  \t38    \n",
      "5  \t40    \n",
      "6  \t36    \n",
      "7  \t34    \n",
      "8  \t34    \n",
      "9  \t35    \n",
      "10 \t40    \n",
      "11 \t33    \n",
      "12 \t25    \n",
      "13 \t39    \n",
      "14 \t34    \n",
      "15 \t37    \n",
      "16 \t40    \n",
      "17 \t32    \n",
      "18 \t35    \n",
      "19 \t45    \n",
      "20 \t42    \n"
     ]
    }
   ],
   "source": [
    "\n",
    "# Ejecutar algoritmo genético\n",
    "resultados = algorithms.eaSimple(population, toolbox, cxpb, mutpb, ngen, verbose=True)"
   ]
  },
  {
   "cell_type": "code",
   "execution_count": 12,
   "metadata": {},
   "outputs": [
    {
     "name": "stdout",
     "output_type": "stream",
     "text": [
      "Mejores ganancias PID encontradas:\n",
      "Kp = -1.956263282755222, Ki = 16.12690996257512, Kd = 10.80934847043994\n"
     ]
    }
   ],
   "source": [
    "# Obtener los mejores parámetros PID \n",
    "\n",
    "mejor_individuo = tools.selBest(population, k=1)[0] \n",
    "\n",
    "print(\"Mejores ganancias PID encontradas:\") \n",
    "\n",
    "print(f\"Kp = {mejor_individuo[0]}, Ki = {mejor_individuo[1]}, Kd = {mejor_individuo[2]}\")"
   ]
  },
  {
   "cell_type": "code",
   "execution_count": 13,
   "metadata": {},
   "outputs": [],
   "source": [
    "import numpy as np \n",
    "\n",
    "import matplotlib.pyplot as plt \n",
    "\n",
    "import control as ctrl "
   ]
  },
  {
   "cell_type": "code",
   "execution_count": 14,
   "metadata": {},
   "outputs": [],
   "source": [
    "\n",
    "# Parámetros del sistema \n",
    "\n",
    "M = 0.8 \n",
    "# Masa del carro (kg) \n",
    "\n",
    "m = 0.23\n",
    "# Masa del péndulo (kg) \n",
    "\n",
    "l = 0.3\n",
    "# Longitud del péndulo (m) \n",
    "\n",
    "g = 9.81 \n",
    "# Aceleración de la gravedad (m/s²) "
   ]
  },
  {
   "cell_type": "code",
   "execution_count": 15,
   "metadata": {},
   "outputs": [],
   "source": [
    "# Definir las ganancias \n",
    "Kp = 37.985\n",
    "\n",
    "# Ganancia proporcional \n",
    "\n",
    "Ki = 16.4227 \n",
    "# Ganancia integral \n",
    "\n",
    "Kd = 9.780 \n",
    "# Ganancia derivativa "
   ]
  },
  {
   "cell_type": "code",
   "execution_count": 16,
   "metadata": {},
   "outputs": [
    {
     "name": "stdout",
     "output_type": "stream",
     "text": [
      "<TransferFunction>: sys[4783]\n",
      "Inputs (1): ['u[0]']\n",
      "Outputs (1): ['y[0]']\n",
      "\n",
      "\n",
      "       1\n",
      "---------------\n",
      "0.24 s^2 - 10.1\n",
      "\n"
     ]
    }
   ],
   "source": [
    "# Sistema G(s) \n",
    "\n",
    "numerador_G = [1] \n",
    "\n",
    "denominador_G = [(M*l), 0, -(M+m)*g] \n",
    "\n",
    "G = ctrl.TransferFunction(numerador_G, denominador_G) \n",
    "\n",
    "print(G) "
   ]
  },
  {
   "cell_type": "code",
   "execution_count": 17,
   "metadata": {},
   "outputs": [],
   "source": [
    "# Controladores P, PI, PD, PID \n",
    "\n",
    "C_P = ctrl.TransferFunction([Kp], [1]) \n",
    "\n",
    "C_PI = ctrl.TransferFunction([Kp, Ki], [1, 0]) \n",
    "\n",
    "C_PD = ctrl.TransferFunction([Kd, Kp], [1]) \n",
    "\n",
    "C_PID = ctrl.TransferFunction([Kd, Kp, Ki], [1, 0]) "
   ]
  },
  {
   "cell_type": "code",
   "execution_count": 18,
   "metadata": {},
   "outputs": [],
   "source": [
    "# Lazo cerrado \n",
    "\n",
    "T_P = ctrl.feedback(G * C_P) \n",
    "\n",
    "T_PI = ctrl.feedback(G * C_PI) \n",
    "\n",
    "T_PD = ctrl.feedback(G * C_PD) \n",
    "\n",
    "T_PID = ctrl.feedback(G * C_PID) "
   ]
  },
  {
   "cell_type": "code",
   "execution_count": 19,
   "metadata": {},
   "outputs": [
    {
     "data": {
      "image/png": "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",
      "text/plain": [
       "<Figure size 1000x600 with 1 Axes>"
      ]
     },
     "metadata": {},
     "output_type": "display_data"
    }
   ],
   "source": [
    "# Tiempo de simulación \n",
    "\n",
    "t = np.linspace(0, 4, 1000) \n",
    "\n",
    "# Respuestas al escalón \n",
    "\n",
    "time_PID, yout_PID = ctrl.step_response(T_PID, t) \n",
    "\n",
    "# Graficar las respuestas \n",
    "\n",
    "plt.figure(figsize=(10, 6)) \n",
    "\n",
    "plt.plot(time_PID, yout_PID, label=\"Controlador PID\") \n",
    "\n",
    "plt.title(\"Respuesta al Escalón del Controlador PID\") \n",
    "\n",
    "plt.xlabel(\"Tiempo (s)\") \n",
    "\n",
    "plt.ylabel(\"Salida\") \n",
    "\n",
    "plt.axhline(y=1, color='r', linestyle='--', label=\"Referencia (setpoint)\") \n",
    "\n",
    "plt.legend() \n",
    "\n",
    "plt.grid(True) \n",
    "\n",
    "plt.ylim(-5, 5) \n",
    "\n",
    "plt.show() "
   ]
  },
  {
   "cell_type": "code",
   "execution_count": 20,
   "metadata": {},
   "outputs": [],
   "source": [
    "# Función objetivo: Evaluar rendimiento del controlador PID\n",
    "def evaluar_pid(individuo): \n",
    "    Kp, Ki, Kd = individuo \n",
    "\n",
    "    # Controlador PID \n",
    "    controlador = ctrl.TransferFunction([Kd, Kp, Ki], [1, 0]) \n",
    "\n",
    "    # Lazo cerrado \n",
    "    sistema_lazo_cerrado = ctrl.feedback(controlador * planta) \n",
    "\n",
    "    # Simulación de la respuesta al escalón \n",
    "    t, yout = ctrl.step_response(sistema_lazo_cerrado) \n",
    "\n",
    "    # Error: Deseamos que la salida siga un escalón unitario \n",
    "    error = 1 - yout \n",
    "\n",
    "    # ISE: Integral del error al cuadrado \n",
    "    ise = np.sum(error**2) * (t[1] - t[0])\n",
    "\n",
    "    # ITAE: Integral del error absoluto multiplicado por el tiempo\n",
    "    itae = np.sum(t * np.abs(error)) * (t[1] - t[0])\n",
    "\n",
    "    return ise, itae,  # Regresar ambos criterios de rendimiento\n"
   ]
  },
  {
   "cell_type": "code",
   "execution_count": null,
   "metadata": {},
   "outputs": [],
   "source": [
    "# Guarda el valor mínimo de la función objetivo en cada generación\n",
    "historial = []\n",
    "\n",
    "# Modificar el operador de evaluación en el algoritmo genético para agregar el seguimiento\n",
    "def evaluate_with_history(individuo):\n",
    "    resultado = evaluar_pid(individuo)\n",
    "    historial.append(resultado)\n",
    "    return resultado\n",
    "\n",
    "toolbox.register(\"evaluate\", evaluate_with_history)\n",
    "\n",
    "# Ejecutar algoritmo genético\n",
    "resultados = algorithms.eaSimple(population, toolbox, cxpb, mutpb, ngen, verbose=True)\n",
    "\n",
    "# Graficar el rendimiento a lo largo de las generaciones\n",
    "ise_vals, itae_vals = zip(*[h[0] for h in historial]), zip(*[h[1] for h in historial])\n",
    "\n",
    "plt.figure(figsize=(10, 6))\n",
    "plt.plot(ise_vals, label=\"ISE\")\n",
    "plt.plot(itae_vals, label=\"ITAE\")\n",
    "plt.title(\"Evolución de la Función Objetivo durante el Algoritmo Genético\")\n",
    "plt.xlabel(\"Generación\")\n",
    "plt.ylabel(\"Valor de la Función Objetivo\")\n",
    "plt.legend()\n",
    "plt.grid(True)\n",
    "plt.show()\n"
   ]
  }
 ],
 "metadata": {
  "kernelspec": {
   "display_name": "Python 3",
   "language": "python",
   "name": "python3"
  },
  "language_info": {
   "codemirror_mode": {
    "name": "ipython",
    "version": 3
   },
   "file_extension": ".py",
   "mimetype": "text/x-python",
   "name": "python",
   "nbconvert_exporter": "python",
   "pygments_lexer": "ipython3",
<<<<<<< Updated upstream
   "version": "3.12.3"
=======
   "version": "3.12.7"
>>>>>>> Stashed changes
  }
 },
 "nbformat": 4,
 "nbformat_minor": 2
}
