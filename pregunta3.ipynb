{
 "cells": [
  {
   "cell_type": "code",
   "execution_count": null,
   "metadata": {
    "vscode": {
     "languageId": "plaintext"
    }
   },
   "outputs": [],
   "source": [
    "import numpy as np\n",
    "import control as ctrl\n",
    "from deap import base, creator, tools, algorithms"
   ]
  },
  {
   "cell_type": "code",
   "execution_count": null,
   "metadata": {
    "vscode": {
     "languageId": "plaintext"
    }
   },
   "outputs": [],
   "source": [
    "# Sistema de ejemplo: Planta G(s) = 1 / (s^2 + 3s + 2)\n",
    "# Parámetros del sistema\n",
    "M = 0.8  # Masa del carro (kg)\n",
    "m = 0.23  # Masa del péndulo (kg)\n",
    "l = 0.3  # Longitud del péndulo (m)\n",
    "g = 9.81 # Aceleración de la gravedad (m/s²)\n"
   ]
  },
  {
   "cell_type": "code",
   "execution_count": null,
   "metadata": {
    "vscode": {
     "languageId": "plaintext"
    }
   },
   "outputs": [],
   "source": [
    "#definir numerador y denominador\n",
    "numerador = [1]\n",
    "denominador = [M*l, 0, -(M+m)*g]"
   ]
  },
  {
   "cell_type": "code",
   "execution_count": null,
   "metadata": {
    "vscode": {
     "languageId": "plaintext"
    }
   },
   "outputs": [],
   "source": [
    "planta = ctrl.TransferFunction(numerador, denominador)"
   ]
  }
 ],
 "metadata": {
  "language_info": {
   "name": "python"
  }
 },
 "nbformat": 4,
 "nbformat_minor": 2
}
