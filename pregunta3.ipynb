{
 "cells": [
  {
   "cell_type": "code",
   "execution_count": 1,
   "metadata": {},
   "outputs": [
    {
     "ename": "ModuleNotFoundError",
     "evalue": "No module named 'control'",
     "output_type": "error",
     "traceback": [
      "\u001b[1;31m---------------------------------------------------------------------------\u001b[0m",
      "\u001b[1;31mModuleNotFoundError\u001b[0m                       Traceback (most recent call last)",
      "Cell \u001b[1;32mIn[1], line 2\u001b[0m\n\u001b[0;32m      1\u001b[0m \u001b[38;5;28;01mimport\u001b[39;00m \u001b[38;5;21;01mnumpy\u001b[39;00m \u001b[38;5;28;01mas\u001b[39;00m \u001b[38;5;21;01mnp\u001b[39;00m\n\u001b[1;32m----> 2\u001b[0m \u001b[38;5;28;01mimport\u001b[39;00m \u001b[38;5;21;01mcontrol\u001b[39;00m \u001b[38;5;28;01mas\u001b[39;00m \u001b[38;5;21;01mctrl\u001b[39;00m\n\u001b[0;32m      3\u001b[0m \u001b[38;5;28;01mfrom\u001b[39;00m \u001b[38;5;21;01mdeap\u001b[39;00m \u001b[38;5;28;01mimport\u001b[39;00m base, creator, tools, algorithms\n",
      "\u001b[1;31mModuleNotFoundError\u001b[0m: No module named 'control'"
     ]
    }
   ],
   "source": [
    "import numpy as np\n",
    "import control as ctrl\n",
    "from deap import base, creator, tools, algorithms"
   ]
  },
  {
   "cell_type": "code",
   "execution_count": null,
   "metadata": {},
   "outputs": [],
   "source": [
    "# Sistema de ejemplo: Planta G(s) = 1 / (s^2 + 3s + 2)\n",
    "# Parámetros del sistema\n",
    "M = 0.8  # Masa del carro (kg)\n",
    "m = 0.23  # Masa del péndulo (kg)\n",
    "l = 0.3  # Longitud del péndulo (m)\n",
    "g = 9.81 # Aceleración de la gravedad (m/s²)\n"
   ]
  },
  {
   "cell_type": "code",
   "execution_count": null,
   "metadata": {},
   "outputs": [],
   "source": [
    "#definir numerador y denominador\n",
    "numerador = [1]\n",
    "denominador = [M*l, 0, -(M+m)*g]"
   ]
  },
  {
   "cell_type": "code",
   "execution_count": null,
   "metadata": {},
   "outputs": [],
   "source": [
    "planta = ctrl.TransferFunction(numerador, denominador)"
   ]
  },
  {
   "cell_type": "code",
   "execution_count": null,
   "metadata": {},
   "outputs": [],
   "source": [
    "##josue"
   ]
  },
  {
   "cell_type": "code",
   "execution_count": null,
   "metadata": {},
   "outputs": [],
   "source": [
    "# Función objetivo: Evaluar rendimiento del controlador PID \n",
    "\n",
    "def evaluar_pid(individuo): \n",
    "\n",
    "    Kp, Ki, Kd = individuo \n",
    "\n",
    "    # Controlador PID \n",
    "\n",
    "    controlador = ctrl.TransferFunction([Kd, Kp, Ki], [1, 0]) \n",
    "\n",
    "    # Lazo cerrado \n",
    "\n",
    "    sistema_lazo_cerrado = ctrl.feedback(controlador * planta) \n",
    "\n",
    "    # Simulación de la respuesta al escalón \n",
    "\n",
    "    t, yout = ctrl.step_response(sistema_lazo_cerrado) \n",
    "\n",
    "    # Error: Deseamos que la salida siga un escalón unitario \n",
    "\n",
    "    error = 1 - yout \n",
    "\n",
    "    # ISE: Integral del error al cuadrado \n",
    "\n",
    "    ise = np.sum(error**2) * (t[1] - t[0]) \n",
    "\n",
    "    return ise, "
   ]
  },
  {
   "cell_type": "code",
   "execution_count": null,
   "metadata": {},
   "outputs": [],
   "source": [
    "# Configuración del algoritmo genético\n",
    "creator.create(\"FitnessMin\", base.Fitness, weights=(-1.0,))  # Minimizar ISE\n",
    "creator.create(\"Individual\", list, fitness=creator.FitnessMin)\n",
    "toolbox = base.Toolbox()"
   ]
  },
  {
   "cell_type": "code",
   "execution_count": null,
   "metadata": {},
   "outputs": [],
   "source": [
    "# Definir individuos (Kp, Ki, Kd)\n",
    "toolbox.register(\"attr_float\", np.random.uniform, 0, 10)  # Rango de [0, 10]\n",
    "toolbox.register(\"individual\", tools.initRepeat, creator.Individual, toolbox.attr_float, 3)\n",
    "toolbox.register(\"population\", tools.initRepeat, list, toolbox.individual)"
   ]
  },
  {
   "cell_type": "code",
   "execution_count": null,
   "metadata": {},
   "outputs": [],
   "source": [
    "# Operadores genéticos\n",
    "toolbox.register(\"mate\", tools.cxBlend, alpha=0.5)\n",
    "toolbox.register(\"mutate\", tools.mutGaussian, mu=0, sigma=1, indpb=0.2)\n",
    "toolbox.register(\"select\", tools.selTournament, tournsize=3)\n",
    "toolbox.register(\"evaluate\", evaluar_pid)"
   ]
  },
  {
   "cell_type": "code",
   "execution_count": null,
   "metadata": {},
   "outputs": [],
   "source": [
    "# Proceso evolutivo\n",
    "population = toolbox.population(n=50)\n",
    "ngen = 20  # Número de generaciones\n",
    "cxpb = 0.7  # Probabilidad de cruzamiento\n",
    "mutpb = 0.2  # Probabilidad de mutación"
   ]
  },
  {
   "cell_type": "code",
   "execution_count": null,
   "metadata": {},
   "outputs": [],
   "source": [
    "\n",
    "# Ejecutar algoritmo genético\n",
    "resultados = algorithms.eaSimple(population, toolbox, cxpb, mutpb, ngen, verbose=True)"
   ]
  },
  {
   "cell_type": "code",
   "execution_count": null,
   "metadata": {},
   "outputs": [],
   "source": [
    "###josue"
   ]
  },
  {
   "cell_type": "code",
   "execution_count": null,
   "metadata": {},
   "outputs": [],
   "source": [
    "# Obtener los mejores parámetros PID \n",
    "\n",
    "mejor_individuo = tools.selBest(population, k=1)[0] \n",
    "\n",
    "print(\"Mejores ganancias PID encontradas:\") \n",
    "\n",
    "print(f\"Kp = {mejor_individuo[0]}, Ki = {mejor_individuo[1]}, Kd = {mejor_individuo[2]}\")"
   ]
  },
  {
   "cell_type": "code",
   "execution_count": null,
   "metadata": {},
   "outputs": [],
   "source": []
  }
 ],
 "metadata": {
  "kernelspec": {
   "display_name": "Python 3",
   "language": "python",
   "name": "python3"
  },
  "language_info": {
   "codemirror_mode": {
    "name": "ipython",
    "version": 3
   },
   "file_extension": ".py",
   "mimetype": "text/x-python",
   "name": "python",
   "nbconvert_exporter": "python",
   "pygments_lexer": "ipython3",
   "version": "3.12.3"
  }
 },
 "nbformat": 4,
 "nbformat_minor": 2
}
