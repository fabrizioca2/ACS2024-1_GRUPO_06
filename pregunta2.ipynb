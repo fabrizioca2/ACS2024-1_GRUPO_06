{
  "nbformat": 4,
  "nbformat_minor": 0,
  "metadata": {
    "colab": {
      "provenance": [],
      "include_colab_link": true
    },
    "kernelspec": {
      "name": "python3",
      "display_name": "Python 3"
    },
    "language_info": {
      "name": "python"
    }
  },
  "cells": [
    {
      "cell_type": "markdown",
      "metadata": {
        "id": "view-in-github",
        "colab_type": "text"
      },
      "source": [
        "<a href=\"https://colab.research.google.com/github/fabrizioca2/Pyfinal_G6_Automatizaci-n/blob/main/pregunta2.ipynb\" target=\"_parent\"><img src=\"https://colab.research.google.com/assets/colab-badge.svg\" alt=\"Open In Colab\"/></a>"
      ]
    },
    {
      "cell_type": "code",
      "execution_count": null,
      "metadata": {
        "id": "FfGrviiz7apT",
        "colab": {
          "base_uri": "https://localhost:8080/"
        },
        "outputId": "c839de1e-313e-47bb-f171-91b8a29e1424"
      },
      "outputs": [
        {
          "output_type": "stream",
          "name": "stdout",
          "text": [
            "Collecting control\n",
            "  Downloading control-0.10.1-py3-none-any.whl.metadata (7.6 kB)\n",
            "Requirement already satisfied: numpy>=1.23 in /usr/local/lib/python3.10/dist-packages (from control) (1.26.4)\n",
            "Requirement already satisfied: scipy>=1.8 in /usr/local/lib/python3.10/dist-packages (from control) (1.13.1)\n",
            "Requirement already satisfied: matplotlib>=3.6 in /usr/local/lib/python3.10/dist-packages (from control) (3.8.0)\n",
            "Requirement already satisfied: contourpy>=1.0.1 in /usr/local/lib/python3.10/dist-packages (from matplotlib>=3.6->control) (1.3.1)\n",
            "Requirement already satisfied: cycler>=0.10 in /usr/local/lib/python3.10/dist-packages (from matplotlib>=3.6->control) (0.12.1)\n",
            "Requirement already satisfied: fonttools>=4.22.0 in /usr/local/lib/python3.10/dist-packages (from matplotlib>=3.6->control) (4.55.0)\n",
            "Requirement already satisfied: kiwisolver>=1.0.1 in /usr/local/lib/python3.10/dist-packages (from matplotlib>=3.6->control) (1.4.7)\n",
            "Requirement already satisfied: packaging>=20.0 in /usr/local/lib/python3.10/dist-packages (from matplotlib>=3.6->control) (24.2)\n",
            "Requirement already satisfied: pillow>=6.2.0 in /usr/local/lib/python3.10/dist-packages (from matplotlib>=3.6->control) (11.0.0)\n",
            "Requirement already satisfied: pyparsing>=2.3.1 in /usr/local/lib/python3.10/dist-packages (from matplotlib>=3.6->control) (3.2.0)\n",
            "Requirement already satisfied: python-dateutil>=2.7 in /usr/local/lib/python3.10/dist-packages (from matplotlib>=3.6->control) (2.8.2)\n",
            "Requirement already satisfied: six>=1.5 in /usr/local/lib/python3.10/dist-packages (from python-dateutil>=2.7->matplotlib>=3.6->control) (1.16.0)\n",
            "Downloading control-0.10.1-py3-none-any.whl (549 kB)\n",
            "\u001b[2K   \u001b[90m━━━━━━━━━━━━━━━━━━━━━━━━━━━━━━━━━━━━━━━━\u001b[0m \u001b[32m549.6/549.6 kB\u001b[0m \u001b[31m6.5 MB/s\u001b[0m eta \u001b[36m0:00:00\u001b[0m\n",
            "\u001b[?25hInstalling collected packages: control\n",
            "Successfully installed control-0.10.1\n"
          ]
        }
      ],
      "source": [
        "import numpy as np\n",
        "import matplotlib.pyplot as plt\n",
        "!pip install control\n",
        "import control as ctrl"
      ]
    },
    {
      "cell_type": "code",
      "source": [
        "# Parámetros del sistema\n",
        "M = 0.5  # Masa del carro (kg)\n",
        "m = 0.2  # Masa del péndulo (kg)\n",
        "L = 0.3  # Longitud del péndulo (m)\n",
        "g = 9.81 # Aceleración de la gravedad (m/s²)"
      ],
      "metadata": {
        "id": "7R8FszELGgeV"
      },
      "execution_count": null,
      "outputs": []
    },
    {
      "cell_type": "code",
      "source": [
        "# Definir las ganancias\n",
        "Kp = 80  # Ganancia proporcional\n",
        "Ki = 80 # Ganancia integral\n",
        "Kd = 3 # Ganancia derivativa"
      ],
      "metadata": {
        "id": "OYLi-8U1HGa3"
      },
      "execution_count": null,
      "outputs": []
    },
    {
      "cell_type": "code",
      "source": [
        "# Sistema G(s)\n",
        "numerador_G = [1]\n",
        "denominador_G = [M*L, 0, -(M+m)*g]\n",
        "#numerador_G = [1/(M*l)]\n",
        "#denominador_G = [1, 0, -(M+m)*g/(M*l)]\n",
        "G = ctrl.TransferFunction(numerador_G, denominador_G)\n",
        "print(G)\n",
        "# Controladores P, PI, PD, PID\n",
        "C_P = ctrl.TransferFunction([Kp], [1])\n",
        "C_PI = ctrl.TransferFunction([Kp, Ki], [1, 0])\n",
        "C_PD = ctrl.TransferFunction([Kd, Kp], [1])\n",
        "C_PID = ctrl.TransferFunction([Kd, Kp, Ki], [1, 0])"
      ],
      "metadata": {
        "colab": {
          "base_uri": "https://localhost:8080/"
        },
        "id": "w_3xe14wI1uZ",
        "outputId": "58c5f984-e60d-40c2-9f36-b02c758a2f52"
      },
      "execution_count": null,
      "outputs": [
        {
          "output_type": "stream",
          "name": "stdout",
          "text": [
            "<TransferFunction>: sys[0]\n",
            "Inputs (1): ['u[0]']\n",
            "Outputs (1): ['y[0]']\n",
            "\n",
            "\n",
            "       1\n",
            "----------------\n",
            "0.15 s^2 - 6.867\n",
            "\n"
          ]
        }
      ]
    },
    {
      "cell_type": "code",
      "source": [
        "# Lazo cerrado\n",
        "T_P = ctrl.feedback(G * C_P)\n",
        "T_PI = ctrl.feedback(G * C_PI)\n",
        "T_PD = ctrl.feedback(G * C_PD)\n",
        "T_PID = ctrl.feedback(G * C_PID)"
      ],
      "metadata": {
        "id": "6j2PTuJdLOsH"
      },
      "execution_count": null,
      "outputs": []
    },
    {
      "cell_type": "code",
      "source": [
        "# Tiempo de simulación\n",
        "t = np.linspace(0, 1, 1000)"
      ],
      "metadata": {
        "id": "q1uHst4_LaRX"
      },
      "execution_count": null,
      "outputs": []
    },
    {
      "cell_type": "code",
      "source": [],
      "metadata": {
        "id": "IPFfURoGLcQK"
      },
      "execution_count": null,
      "outputs": []
    }
  ]
}