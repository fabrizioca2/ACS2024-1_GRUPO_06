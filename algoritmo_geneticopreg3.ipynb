{
  "nbformat": 4,
  "nbformat_minor": 0,
  "metadata": {
    "colab": {
      "provenance": [],
      "include_colab_link": true
    },
    "kernelspec": {
      "name": "python3",
      "display_name": "Python 3"
    },
    "language_info": {
      "name": "python"
    }
  },
  "cells": [
    {
      "cell_type": "markdown",
      "metadata": {
        "id": "view-in-github",
        "colab_type": "text"
      },
      "source": [
        "<a href=\"https://colab.research.google.com/github/fabrizioca2/ACS2024-1_GRUPO_06/blob/Aldair-Solis/algoritmo_geneticopreg3.ipynb\" target=\"_parent\"><img src=\"https://colab.research.google.com/assets/colab-badge.svg\" alt=\"Open In Colab\"/></a>"
      ]
    },
    {
      "cell_type": "code",
      "execution_count": null,
      "metadata": {
        "colab": {
          "base_uri": "https://localhost:8080/"
        },
        "id": "amjEuc1tOnsb",
        "outputId": "67e5a780-5aa5-4ea1-8aa2-06defc280ade"
      },
      "outputs": [
        {
          "output_type": "stream",
          "name": "stdout",
          "text": [
            "Collecting deap\n",
            "  Downloading deap-1.4.1-cp310-cp310-manylinux_2_5_x86_64.manylinux1_x86_64.manylinux_2_17_x86_64.manylinux2014_x86_64.whl.metadata (13 kB)\n",
            "Requirement already satisfied: numpy in /usr/local/lib/python3.10/dist-packages (from deap) (1.26.4)\n",
            "Downloading deap-1.4.1-cp310-cp310-manylinux_2_5_x86_64.manylinux1_x86_64.manylinux_2_17_x86_64.manylinux2014_x86_64.whl (135 kB)\n",
            "\u001b[2K   \u001b[90m━━━━━━━━━━━━━━━━━━━━━━━━━━━━━━━━━━━━━━━━\u001b[0m \u001b[32m135.4/135.4 kB\u001b[0m \u001b[31m2.1 MB/s\u001b[0m eta \u001b[36m0:00:00\u001b[0m\n",
            "\u001b[?25hInstalling collected packages: deap\n",
            "Successfully installed deap-1.4.1\n",
            "Collecting control\n",
            "  Downloading control-0.10.1-py3-none-any.whl.metadata (7.6 kB)\n",
            "Requirement already satisfied: numpy>=1.23 in /usr/local/lib/python3.10/dist-packages (from control) (1.26.4)\n",
            "Requirement already satisfied: scipy>=1.8 in /usr/local/lib/python3.10/dist-packages (from control) (1.13.1)\n",
            "Requirement already satisfied: matplotlib>=3.6 in /usr/local/lib/python3.10/dist-packages (from control) (3.8.0)\n",
            "Requirement already satisfied: contourpy>=1.0.1 in /usr/local/lib/python3.10/dist-packages (from matplotlib>=3.6->control) (1.3.1)\n",
            "Requirement already satisfied: cycler>=0.10 in /usr/local/lib/python3.10/dist-packages (from matplotlib>=3.6->control) (0.12.1)\n",
            "Requirement already satisfied: fonttools>=4.22.0 in /usr/local/lib/python3.10/dist-packages (from matplotlib>=3.6->control) (4.55.0)\n",
            "Requirement already satisfied: kiwisolver>=1.0.1 in /usr/local/lib/python3.10/dist-packages (from matplotlib>=3.6->control) (1.4.7)\n",
            "Requirement already satisfied: packaging>=20.0 in /usr/local/lib/python3.10/dist-packages (from matplotlib>=3.6->control) (24.2)\n",
            "Requirement already satisfied: pillow>=6.2.0 in /usr/local/lib/python3.10/dist-packages (from matplotlib>=3.6->control) (11.0.0)\n",
            "Requirement already satisfied: pyparsing>=2.3.1 in /usr/local/lib/python3.10/dist-packages (from matplotlib>=3.6->control) (3.2.0)\n",
            "Requirement already satisfied: python-dateutil>=2.7 in /usr/local/lib/python3.10/dist-packages (from matplotlib>=3.6->control) (2.8.2)\n",
            "Requirement already satisfied: six>=1.5 in /usr/local/lib/python3.10/dist-packages (from python-dateutil>=2.7->matplotlib>=3.6->control) (1.16.0)\n",
            "Downloading control-0.10.1-py3-none-any.whl (549 kB)\n",
            "\u001b[2K   \u001b[90m━━━━━━━━━━━━━━━━━━━━━━━━━━━━━━━━━━━━━━━━\u001b[0m \u001b[32m549.6/549.6 kB\u001b[0m \u001b[31m8.0 MB/s\u001b[0m eta \u001b[36m0:00:00\u001b[0m\n",
            "\u001b[?25hInstalling collected packages: control\n",
            "Successfully installed control-0.10.1\n"
          ]
        }
      ],
      "source": [
        "!pip install deap\n",
        "!pip install control\n",
        "import numpy as np\n",
        "import control as ctrl\n",
        "from deap import base, creator, tools, algorithms"
      ]
    },
    {
      "cell_type": "code",
      "source": [
        "# Sistema de ejemplo: Planta G(s) = 1 / (s^2 + 3s + 2)\n",
        "# Parámetros del sistema\n",
        "M = 0.8  # Masa del carro (kg)\n",
        "m = 0.23  # Masa del péndulo (kg)\n",
        "l = 0.3  # Longitud del péndulo (m)\n",
        "g = 9.81 # Aceleración de la gravedad (m/s²)"
      ],
      "metadata": {
        "id": "pyDrBceyO1eO"
      },
      "execution_count": null,
      "outputs": []
    },
    {
      "cell_type": "code",
      "source": [
        "#Se define numerador y denominador\n",
        "numerador = [1]\n",
        "denominador = [M*l, 0, -(M+m)*g]"
      ],
      "metadata": {
        "id": "OMG04KuCTU3X"
      },
      "execution_count": null,
      "outputs": []
    },
    {
      "cell_type": "code",
      "source": [
        "planta = ctrl.TransferFunction(numerador, denominador)"
      ],
      "metadata": {
        "id": "Rnvbpk7gTZN0"
      },
      "execution_count": null,
      "outputs": []
    },
    {
      "cell_type": "code",
      "source": [
        "# Función objetivo: Evaluar rendimiento del controlador PID\n",
        "def evaluar_pid(individuo):\n",
        "    Kp, Ki, Kd = individuo\n",
        "    # Controlador PID\n",
        "    controlador = ctrl.TransferFunction([Kd, Kp, Ki], [1, 0])\n",
        "    # Lazo cerrado\n",
        "    sistema_lazo_cerrado = ctrl.feedback(controlador * planta)\n",
        "    # Simulación de la respuesta al escalón\n",
        "    t, yout = ctrl.step_response(sistema_lazo_cerrado)\n",
        "    # Error: Deseamos que la salida siga un escalón unitario\n",
        "    error = 1 - yout\n",
        "    # ISE: Integral del error al cuadrado\n",
        "    ise = np.sum(error**2) * (t[1] - t[0])\n",
        "    return ise,"
      ],
      "metadata": {
        "id": "GDVApjrcTa2i"
      },
      "execution_count": null,
      "outputs": []
    },
    {
      "cell_type": "code",
      "source": [
        "# Configuración del algoritmo genético\n",
        "creator.create(\"FitnessMin\", base.Fitness, weights=(-1.0,))  # Minimizar ISE\n",
        "creator.create(\"Individual\", list, fitness=creator.FitnessMin)\n",
        "toolbox = base.Toolbox()"
      ],
      "metadata": {
        "id": "QmW9knDKTfsO"
      },
      "execution_count": null,
      "outputs": []
    },
    {
      "cell_type": "code",
      "source": [
        "# Definir individuos (Kp, Ki, Kd)\n",
        "toolbox.register(\"attr_float\", np.random.uniform, 0, 10)  # Rango de [0, 10]\n",
        "toolbox.register(\"individual\", tools.initRepeat, creator.Individual, toolbox.attr_float, 3)\n",
        "toolbox.register(\"population\", tools.initRepeat, list, toolbox.individual)"
      ],
      "metadata": {
        "id": "wpP4t-O4Tjvx"
      },
      "execution_count": null,
      "outputs": []
    },
    {
      "cell_type": "code",
      "source": [
        "# Operadores genéticos\n",
        "toolbox.register(\"mate\", tools.cxBlend, alpha=0.5)\n",
        "toolbox.register(\"mutate\", tools.mutGaussian, mu=0, sigma=1, indpb=0.2)\n",
        "toolbox.register(\"select\", tools.selTournament, tournsize=3)\n",
        "toolbox.register(\"evaluate\", evaluar_pid)"
      ],
      "metadata": {
        "id": "PKlNtG21TmAK"
      },
      "execution_count": null,
      "outputs": []
    },
    {
      "cell_type": "code",
      "source": [
        "# Proceso evolutivo\n",
        "population = toolbox.population(n=50)\n",
        "ngen = 20  # Número de generaciones\n",
        "cxpb = 0.7  # Probabilidad de cruzamiento\n",
        "mutpb = 0.2  # Probabilidad de mutación"
      ],
      "metadata": {
        "id": "uGL_IcX7ToAY"
      },
      "execution_count": null,
      "outputs": []
    },
    {
      "cell_type": "code",
      "source": [
        "# Se ejecuta algoritmo genético\n",
        "resultados = algorithms.eaSimple(population, toolbox, cxpb, mutpb, ngen, verbose=True)\n",
        "# Obtener los mejores parámetros PID\n",
        "mejor_individuo = tools.selBest(population, k=1)[0]\n",
        "print(\"Mejores ganancias PID encontradas:\")\n",
        "print(f\"Kp = {mejor_individuo[0]}, Ki = {mejor_individuo[1]}, Kd = {mejor_individuo[2]}\")"
      ],
      "metadata": {
        "colab": {
          "base_uri": "https://localhost:8080/"
        },
        "id": "8wnLx7ekTqIZ",
        "outputId": "31a8ad74-5a59-4503-c422-2649876e8f8d"
      },
      "execution_count": null,
      "outputs": [
        {
          "output_type": "stream",
          "name": "stderr",
          "text": [
            "/usr/local/lib/python3.10/dist-packages/control/timeresp.py:1197: RuntimeWarning: overflow encountered in matmul\n",
            "  xout[:, i] = (Ad @ xout[:, i-1]\n",
            "/usr/local/lib/python3.10/dist-packages/control/timeresp.py:1197: RuntimeWarning: invalid value encountered in matmul\n",
            "  xout[:, i] = (Ad @ xout[:, i-1]\n",
            "/usr/local/lib/python3.10/dist-packages/control/timeresp.py:1199: RuntimeWarning: overflow encountered in matmul\n",
            "  yout = C @ xout + D @ U\n",
            "<ipython-input-5-4d6c465d2b42>:13: RuntimeWarning: overflow encountered in square\n",
            "  ise = np.sum(error**2) * (t[1] - t[0])\n"
          ]
        },
        {
          "output_type": "stream",
          "name": "stdout",
          "text": [
            "gen\tnevals\n",
            "0  \t50    \n",
            "1  \t37    \n",
            "2  \t34    \n",
            "3  \t36    \n",
            "4  \t37    \n",
            "5  \t40    \n",
            "6  \t42    \n",
            "7  \t47    \n",
            "8  \t38    \n",
            "9  \t35    \n",
            "10 \t40    \n",
            "11 \t37    \n",
            "12 \t38    \n",
            "13 \t37    \n",
            "14 \t34    \n",
            "15 \t43    \n",
            "16 \t37    \n",
            "17 \t36    \n",
            "18 \t35    \n",
            "19 \t40    \n",
            "20 \t40    \n",
            "Mejores ganancias PID encontradas:\n",
            "Kp = 24.0077740907898, Ki = 9.346448746952095, Kd = 5.9176208226312905\n"
          ]
        }
      ]
    }
  ]
}