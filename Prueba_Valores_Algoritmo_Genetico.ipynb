{
  "nbformat": 4,
  "nbformat_minor": 0,
  "metadata": {
    "colab": {
      "provenance": [],
      "authorship_tag": "ABX9TyP5NYP/WPNwvUkKSFoSthKC",
      "include_colab_link": true
    },
    "kernelspec": {
      "name": "python3",
      "display_name": "Python 3"
    },
    "language_info": {
      "name": "python"
    }
  },
  "cells": [
    {
      "cell_type": "markdown",
      "metadata": {
        "id": "view-in-github",
        "colab_type": "text"
      },
      "source": [
        "<a href=\"https://colab.research.google.com/github/fabrizioca2/ACS2024-1_GRUPO_06/blob/Aldair-Solis/Prueba_Valores_Algoritmo_Genetico.ipynb\" target=\"_parent\"><img src=\"https://colab.research.google.com/assets/colab-badge.svg\" alt=\"Open In Colab\"/></a>"
      ]
    },
    {
      "cell_type": "code",
      "execution_count": 26,
      "metadata": {
        "colab": {
          "base_uri": "https://localhost:8080/"
        },
        "id": "GghgBgpeCUeb",
        "outputId": "d61a4c0d-a657-49f8-ea8f-e7964c64affe"
      },
      "outputs": [
        {
          "output_type": "stream",
          "name": "stdout",
          "text": [
            "Requirement already satisfied: control in /usr/local/lib/python3.10/dist-packages (0.10.1)\n",
            "Requirement already satisfied: numpy>=1.23 in /usr/local/lib/python3.10/dist-packages (from control) (1.26.4)\n",
            "Requirement already satisfied: scipy>=1.8 in /usr/local/lib/python3.10/dist-packages (from control) (1.13.1)\n",
            "Requirement already satisfied: matplotlib>=3.6 in /usr/local/lib/python3.10/dist-packages (from control) (3.8.0)\n",
            "Requirement already satisfied: contourpy>=1.0.1 in /usr/local/lib/python3.10/dist-packages (from matplotlib>=3.6->control) (1.3.1)\n",
            "Requirement already satisfied: cycler>=0.10 in /usr/local/lib/python3.10/dist-packages (from matplotlib>=3.6->control) (0.12.1)\n",
            "Requirement already satisfied: fonttools>=4.22.0 in /usr/local/lib/python3.10/dist-packages (from matplotlib>=3.6->control) (4.55.0)\n",
            "Requirement already satisfied: kiwisolver>=1.0.1 in /usr/local/lib/python3.10/dist-packages (from matplotlib>=3.6->control) (1.4.7)\n",
            "Requirement already satisfied: packaging>=20.0 in /usr/local/lib/python3.10/dist-packages (from matplotlib>=3.6->control) (24.2)\n",
            "Requirement already satisfied: pillow>=6.2.0 in /usr/local/lib/python3.10/dist-packages (from matplotlib>=3.6->control) (11.0.0)\n",
            "Requirement already satisfied: pyparsing>=2.3.1 in /usr/local/lib/python3.10/dist-packages (from matplotlib>=3.6->control) (3.2.0)\n",
            "Requirement already satisfied: python-dateutil>=2.7 in /usr/local/lib/python3.10/dist-packages (from matplotlib>=3.6->control) (2.8.2)\n",
            "Requirement already satisfied: six>=1.5 in /usr/local/lib/python3.10/dist-packages (from python-dateutil>=2.7->matplotlib>=3.6->control) (1.16.0)\n"
          ]
        }
      ],
      "source": [
        "import numpy as np\n",
        "import matplotlib.pyplot as plt\n",
        "!pip install control\n",
        "import control as ctrl"
      ]
    },
    {
      "cell_type": "code",
      "source": [
        "# Parámetros del sistema\n",
        "M = 0.8  # Masa del carro (kg)\n",
        "m = 0.23  # Masa del péndulo (kg)\n",
        "l = 0.3  # Longitud del péndulo (m)\n",
        "g = 9.81 # Aceleración de la gravedad (m/s²)\n"
      ],
      "metadata": {
        "id": "rEDNADYtCZNB"
      },
      "execution_count": 27,
      "outputs": []
    },
    {
      "cell_type": "code",
      "source": [
        "# Definir las ganancias\n",
        "Kp = 50.24  # Ganancia proporcional\n",
        "Ki = 21.91 # Ganancia integral\n",
        "Kd = 6.08 # Ganancia derivativa"
      ],
      "metadata": {
        "id": "eg3bgkndC7HB"
      },
      "execution_count": 28,
      "outputs": []
    },
    {
      "cell_type": "code",
      "source": [
        "# Sistema G(s)\n",
        "numerador_G = [1]\n",
        "denominador_G = [(M*l), 0, -(M+m)*g]\n",
        "G = ctrl.TransferFunction(numerador_G, denominador_G)\n",
        "print(G)"
      ],
      "metadata": {
        "colab": {
          "base_uri": "https://localhost:8080/"
        },
        "id": "e-4t91qFC-d4",
        "outputId": "681081a0-4878-41b3-c2c9-4aa4afb2d695"
      },
      "execution_count": 29,
      "outputs": [
        {
          "output_type": "stream",
          "name": "stdout",
          "text": [
            "<TransferFunction>: sys[58]\n",
            "Inputs (1): ['u[0]']\n",
            "Outputs (1): ['y[0]']\n",
            "\n",
            "\n",
            "       1\n",
            "---------------\n",
            "0.24 s^2 - 10.1\n",
            "\n"
          ]
        }
      ]
    },
    {
      "cell_type": "code",
      "source": [
        "# Controladores P, PI, PD, PID\n",
        "C_P = ctrl.TransferFunction([Kp], [1])\n",
        "C_PI = ctrl.TransferFunction([Kp, Ki], [1, 0])\n",
        "C_PD = ctrl.TransferFunction([Kd, Kp], [1])\n",
        "C_PID = ctrl.TransferFunction([Kd, Kp, Ki], [1, 0])"
      ],
      "metadata": {
        "id": "mSbxqSp9DC_M"
      },
      "execution_count": 30,
      "outputs": []
    },
    {
      "cell_type": "code",
      "source": [
        "# Lazo cerrado\n",
        "T_P = ctrl.feedback(G * C_P)\n",
        "T_PI = ctrl.feedback(G * C_PI)\n",
        "T_PD = ctrl.feedback(G * C_PD)\n",
        "T_PID = ctrl.feedback(G * C_PID)"
      ],
      "metadata": {
        "id": "fnhoG0F0DGXo"
      },
      "execution_count": 31,
      "outputs": []
    },
    {
      "cell_type": "code",
      "source": [
        "# Tiempo de simulación\n",
        "t = np.linspace(0, 4, 1000)"
      ],
      "metadata": {
        "id": "l8IVxNBTDI2A"
      },
      "execution_count": 32,
      "outputs": []
    },
    {
      "cell_type": "code",
      "source": [
        "# Respuestas al escalón\n",
        "time_PID, yout_PID = ctrl.step_response(T_PID, t)"
      ],
      "metadata": {
        "id": "S42HdQnzDKeQ"
      },
      "execution_count": 33,
      "outputs": []
    },
    {
      "cell_type": "code",
      "source": [
        "# Graficar las respuestas\n",
        "plt.figure(figsize=(10, 6))\n",
        "plt.plot(time_PID, yout_PID, label=\"Controlador PID\")\n",
        "plt.title(\"Respuesta al Escalón del Controlador PID\")\n",
        "plt.xlabel(\"Tiempo (s)\")\n",
        "plt.ylabel(\"Salida\")\n",
        "plt.axhline(y=1, color='r', linestyle='--', label=\"Referencia (setpoint)\")\n",
        "plt.legend()\n",
        "plt.grid(True)\n",
        "plt.ylim(-5, 5)\n",
        "plt.show()"
      ],
      "metadata": {
        "colab": {
          "base_uri": "https://localhost:8080/",
          "height": 565
        },
        "id": "orM_AsxMDMr4",
        "outputId": "1fa23c69-3fb9-4211-8750-6f7b77c4ceec"
      },
      "execution_count": 34,
      "outputs": [
        {
          "output_type": "display_data",
          "data": {
            "text/plain": [
              "<Figure size 1000x600 with 1 Axes>"
            ],
            "image/png": "[encoded data removed]"
          },
          "metadata": {}
        }
      ]
    }
  ]
}