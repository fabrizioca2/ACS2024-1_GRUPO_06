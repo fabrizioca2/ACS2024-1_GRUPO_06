{
  "nbformat": 4,
  "nbformat_minor": 0,
  "metadata": {
    "colab": {
      "provenance": [],
      "authorship_tag": "ABX9TyOLQoh3sQTj8vUueiCidJS9",
      "include_colab_link": true
    },
    "kernelspec": {
      "name": "python3",
      "display_name": "Python 3"
    },
    "language_info": {
      "name": "python"
    }
  },
  "cells": [
    {
      "cell_type": "markdown",
      "metadata": {
        "id": "view-in-github",
        "colab_type": "text"
      },
      "source": [
        "<a href=\"https://colab.research.google.com/github/fabrizioca2/Pyfinal_G6_Automatizaci-n/blob/Fabrizio-Calixto/Pregunta2.ipynb\" target=\"_parent\"><img src=\"https://colab.research.google.com/assets/colab-badge.svg\" alt=\"Open In Colab\"/></a>"
      ]
    },
    {
      "cell_type": "code",
      "execution_count": 12,
      "metadata": {
        "id": "FfGrviiz7apT"
      },
      "outputs": [],
      "source": [
        "import numpy as np\n",
        "import matplotlib.pyplot as plt\n",
        "import control as ctrl"
      ]
    },
    {
      "cell_type": "code",
      "source": [
        "# Parámetros del sistema\n",
        "M = 0.5  # Masa del carro (kg)\n",
        "m = 0.2  # Masa del péndulo (kg)\n",
        "L = 0.3  # Longitud del péndulo (m)\n",
        "g = 9.81 # Aceleración de la gravedad (m/s²)"
      ],
      "metadata": {
        "id": "7R8FszELGgeV"
      },
      "execution_count": 13,
      "outputs": []
    },
    {
      "cell_type": "code",
      "source": [
        "# Definir las ganancias\n",
        "Kp = 80  # Ganancia proporcional\n",
        "Ki = 80 # Ganancia integral\n",
        "Kd = 3 # Ganancia derivativa"
      ],
      "metadata": {
        "id": "OYLi-8U1HGa3"
      },
      "execution_count": 14,
      "outputs": []
    }
  ]
}